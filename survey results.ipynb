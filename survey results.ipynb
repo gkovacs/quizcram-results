{
 "cells": [
  {
   "cell_type": "code",
   "execution_count": 18,
   "metadata": {
    "collapsed": false
   },
   "outputs": [
    {
     "name": "stdout",
     "output_type": "stream",
     "text": [
      "{'sydneyosifeso': 0, 'jiawenli': 1, 'minh1': 0, 'johnnyxu': 1, 'marcellaweiss1': 1, 'angilewis1': 0, 'lorant': 0, 'angelicachavez': 1, 'crystalromero': 0, 'yanyan': 0, 'jonathangriffin': 0, 'ngocbui': 1, 'celinajackson': 1, 'emilytruong': 1, 'dorondorfman': 1, 'michelleloya': 0, 'annereynolds': 0, 'dinianapiekutowski': 1}\n"
     ]
    }
   ],
   "source": [
    "import yaml\n",
    "\n",
    "conditions = yaml.load(open('conditionsv2.yaml'))\n",
    "print conditions"
   ]
  },
  {
   "cell_type": "code",
   "execution_count": 19,
   "metadata": {
    "collapsed": false
   },
   "outputs": [
    {
     "name": "stdout",
     "output_type": "stream",
     "text": [
      "0\n",
      "1\n",
      "0\n",
      "1\n",
      "1\n",
      "1\n",
      "0\n",
      "0\n",
      "1\n",
      "1\n",
      "1\n",
      "0\n",
      "0\n",
      "0\n",
      "1\n",
      "1\n",
      "0\n",
      "0\n",
      "0\n",
      "1\n",
      "1\n",
      "0\n",
      "1\n",
      "1\n",
      "0\n",
      "0\n",
      "1\n",
      "1\n",
      "0\n",
      "0\n",
      "0\n",
      "1\n",
      "1\n",
      "1\n",
      "0\n",
      "0\n"
     ]
    }
   ],
   "source": [
    "import csv\n",
    "\n",
    "part0 = csv.DictReader(open('feedbackv2p1.tsv'), dialect='excel', delimiter='\\t')\n",
    "part1 = csv.DictReader(open('feedbackv2p2.tsv'), dialect='excel', delimiter='\\t')\n",
    "\n",
    "blacklist = set(['nathanjones1', 'sakshisundaram1', 'dionnejackson', 'sarahsimmons'])\n",
    "\n",
    "all_lines = []\n",
    "\n",
    "for line in part0:\n",
    "  userid = line['Enter your user id (prefilled, do not change)']\n",
    "  tool = line['Which video viewing tool were you using? (prefilled, do not change)']\n",
    "  if userid in blacklist:\n",
    "    continue\n",
    "  print conditions[userid]\n",
    "  all_lines.append(line)\n",
    "\n",
    "for line in part1:\n",
    "  userid = line['Enter your user id (prefilled, do not change)']\n",
    "  tool = line['Which video viewing tool were you using? (prefilled, do not change)']\n",
    "  if userid in blacklist:\n",
    "    continue\n",
    "  print conditions[userid]\n",
    "  all_lines.append(line)\n",
    "\n"
   ]
  },
  {
   "cell_type": "code",
   "execution_count": 31,
   "metadata": {
    "collapsed": false
   },
   "outputs": [
    {
     "name": "stdout",
     "output_type": "stream",
     "text": [
      "{'How well do you understand the material that you just studied?': {'invideo': [4, 3, 6, 4, 6, 5, 6, 2, 5, 3, 7, 6, 6, 4, 6, 4, 5, 6], 'quizcram': [5, 5, 7, 5, 2, 5, 7, 5, 5, 5, 7, 6, 5, 5, 6, 5, 6, 5]}, 'This tool helped me maintain focus across the study period': {'invideo': [6, 6, 7, 3, 5, 5, 1, 1, 4, 6, 7, 6, 7, 5, 3, 6, 7, 5], 'quizcram': [7, 6, 6, 6, 1, 6, 7, 2, 6, 6, 7, 3, 2, 7, 4, 6, 4, 5]}, 'How difficult was it to understand the lecture videos in this unit?': {'invideo': [2, 5, 1, 3, 2, 1, 2, 6, 3, 3, 1, 1, 1, 3, 1, 6, 1, 1], 'quizcram': [2, 6, 1, 4, 2, 1, 1, 4, 2, 2, 1, 1, 4, 4, 1, 1, 2, 2]}, 'This video viewing tool was helpful for deciding how to spend my study time': {'invideo': [6, 6, 3, 4, 1, 5, 3, 1, 5, 5, 3, 5, 7, 6, 4, 6, 5, 5], 'quizcram': [6, 5, 7, 5, 1, 5, 7, 6, 7, 5, 7, 1, 4, 7, 4, 6, 7, 4]}, 'I would like to use this video viewing tool again in the future': {'invideo': [7, 6, 7, 4, 4, 7, 1, 1, 4, 6, 7, 7, 7, 4, 4, 6, 5, 5], 'quizcram': [7, 6, 7, 2, 1, 7, 7, 4, 6, 6, 7, 2, 4, 7, 5, 7, 2, 4]}, 'What priority did you place on completely viewing the video?': {'invideo': [7, 7, 6, 5, 5, 7, 3, 7, 6, 3, 7, 1, 7, 7, 4, 4, 6, 6], 'quizcram': [7, 7, 6, 7, 1, 4, 6, 7, 7, 2, 6, 1, 6, 7, 3, 3, 7, 2]}, 'Overall, I am satisfied with using this video viewing tool': {'invideo': [5, 6, 7, 4, 5, 6, 5, 1, 4, 4, 7, 7, 7, 5, 6, 6, 3, 5], 'quizcram': [6, 6, 7, 5, 3, 5, 7, 6, 5, 5, 7, 2, 3, 6, 6, 7, 6, 3]}, 'This video viewing tool helped me review the material that I did not yet understand': {'invideo': [7, 6, 7, 4, 4, 6, 3, 1, 3, 6, 7, 4, 7, 7, 4, 6, 7, 1], 'quizcram': [7, 6, 7, 4, 4, 7, 7, 4, 4, 7, 7, 4, 7, 6, 4, 6, 5, 2]}, 'Answering the questions while watching videos with this tool helped me learn the material': {'invideo': [7, 7, 7, 5, 6, 7, 2, 3, 5, 6, 7, 7, 7, 2, 4, 6, 7, 5], 'quizcram': [7, 7, 7, 3, 1, 7, 7, 5, 7, 6, 7, 7, 5, 6, 5, 7, 5, 5]}, 'How difficult was it to answer the questions you encountered while watching the videos?': {'invideo': [4, 6, 3, 6, 3, 1, 1, 7, 3, 3, 2, 1, 2, 4, 1, 6, 4, 2], 'quizcram': [3, 6, 6, 4, 3, 1, 2, 3, 3, 3, 3, 2, 5, 2, 1, 4, 2, 2]}, 'What priority did you place on answering the questions correctly?': {'invideo': [7, 5, 3, 1, 6, 6, 5, 6, 6, 5, 7, 6, 6, 1, 4, 6, 2, 7], 'quizcram': [7, 5, 3, 3, 4, 6, 7, 6, 7, 5, 7, 6, 7, 6, 6, 7, 3, 5]}}\n"
     ]
    }
   ],
   "source": [
    "question_to_user_to_responses = {}\n",
    "question_to_responses = {}\n",
    "\n",
    "userlist = ['lorant', 'sydneyosifeso', 'crystalromero', 'yanyan', 'jonathangriffin', 'dinianapiekutowski', 'ngocbui', 'dorondorfman', 'marcellaweiss1', 'celinajackson', 'michelleloya', 'emilytruong', 'angelicachavez', 'angilewis1', 'minh1', 'jiawenli', 'annereynolds', 'johnnyxu']\n",
    "#print len(userlist)\n",
    "\n",
    "list_of_questions = [\n",
    "    'How difficult was it to understand the lecture videos in this unit?',\n",
    "    'How difficult was it to answer the questions you encountered while watching the videos?',\n",
    "    'How well do you understand the material that you just studied?',\n",
    "    'Overall, I am satisfied with using this video viewing tool',\n",
    "    'This video viewing tool was helpful for deciding how to spend my study time',\n",
    "    'This video viewing tool helped me review the material that I did not yet understand',\n",
    "    'This tool helped me maintain focus across the study period',\n",
    "    'Answering the questions while watching videos with this tool helped me learn the material',\n",
    "    'I would like to use this video viewing tool again in the future',\n",
    "    'What priority did you place on answering the questions correctly?',\n",
    "    'What priority did you place on completely viewing the video?',\n",
    "]\n",
    "\n",
    "for question in list_of_questions:\n",
    "    question_to_user_to_responses[question] = {'invideo': {}, 'quizcram': {}}\n",
    "    question_to_responses[question] = {'invideo': [], 'quizcram': []}\n",
    "\n",
    "for line in all_lines:\n",
    "    userid = line['Enter your user id (prefilled, do not change)']\n",
    "    tool = line['Which video viewing tool were you using? (prefilled, do not change)']\n",
    "    for question in list_of_questions:\n",
    "        answer = int(line[question])\n",
    "        question_to_user_to_responses[question][tool][userid] = answer\n",
    "\n",
    "for question,condition_to_user_responses in question_to_user_to_responses.iteritems():\n",
    "    invideo_responses = condition_to_user_responses['invideo']\n",
    "    quizcram_responses = condition_to_user_responses['quizcram']\n",
    "    #userlist = invideo_responses.keys()\n",
    "    for user in userlist:\n",
    "        question_to_responses[question]['invideo'].append(invideo_responses[user])\n",
    "        question_to_responses[question]['quizcram'].append(quizcram_responses[user])\n",
    "\n",
    "print question_to_responses"
   ]
  },
  {
   "cell_type": "code",
   "execution_count": 29,
   "metadata": {
    "collapsed": false
   },
   "outputs": [
    {
     "name": "stdout",
     "output_type": "stream",
     "text": [
      "===============\n",
      "5.33333333333 4.88888888889 How well do you understand the material that you just studied?\n",
      "(1.2538956636260115, 0.2268492215183435)\n",
      "===============\n",
      "5.05555555556 5.0 This tool helped me maintain focus across the study period\n",
      "(0.089866620617377449, 0.92944351280376325)\n",
      "===============\n",
      "2.27777777778 2.38888888889 How difficult was it to understand the lecture videos in this unit?\n",
      "(-0.28727038107793179, 0.77737752978772834)\n",
      "===============\n",
      "5.22222222222 4.44444444444 This video viewing tool was helpful for deciding how to spend my study time\n",
      "(1.366642968914817, 0.18954119113327675)\n",
      "===============\n",
      "5.05555555556 5.11111111111 I would like to use this video viewing tool again in the future\n",
      "(-0.089866620617377449, 0.92944351280376325)\n",
      "===============\n",
      "4.94444444444 5.44444444444 What priority did you place on completely viewing the video?\n",
      "(-1.1636074513705021, 0.26065556080441138)\n",
      "===============\n",
      "5.27777777778 5.16666666667 Overall, I am satisfied with using this video viewing tool\n",
      "(0.20070964149630047, 0.84330727918471671)\n",
      "===============\n",
      "5.44444444444 5.0 This video viewing tool helped me review the material that I did not yet understand\n",
      "(1.4090427459286019, 0.17685178912104468)\n",
      "===============\n",
      "5.77777777778 5.55555555556 Answering the questions while watching videos with this tool helped me learn the material\n",
      "(0.41649656391752143, 0.68225795887503016)\n",
      "===============\n",
      "3.05555555556 3.27777777778 How difficult was it to answer the questions you encountered while watching the videos?\n",
      "(-0.5334030637818673, 0.60065964234149449)\n",
      "===============\n",
      "5.55555555556 4.94444444444 What priority did you place on answering the questions correctly?\n",
      "(1.6440870837725099, 0.11852237147802595)\n"
     ]
    }
   ],
   "source": [
    "from numpy import mean\n",
    "from scipy.stats import ttest_rel\n",
    "\n",
    "for question,condition_to_responses in question_to_responses.iteritems():\n",
    "    invideo_responses = condition_to_responses['invideo']\n",
    "    quizcram_responses = condition_to_responses['quizcram']\n",
    "    print '==============='\n",
    "    print mean(quizcram_responses), mean(invideo_responses), question\n",
    "    print ttest_rel(quizcram_responses, invideo_responses)\n",
    "    "
   ]
  }
 ],
 "metadata": {
  "kernelspec": {
   "display_name": "Python 2",
   "language": "python",
   "name": "python2"
  },
  "language_info": {
   "codemirror_mode": {
    "name": "ipython",
    "version": 2
   },
   "file_extension": ".py",
   "mimetype": "text/x-python",
   "name": "python",
   "nbconvert_exporter": "python",
   "pygments_lexer": "ipython2",
   "version": "2.7.5"
  }
 },
 "nbformat": 4,
 "nbformat_minor": 0
}
